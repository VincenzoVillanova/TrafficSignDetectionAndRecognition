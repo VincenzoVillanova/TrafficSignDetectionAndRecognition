{
 "cells": [
  {
   "cell_type": "code",
   "execution_count": null,
   "id": "9807ddaa",
   "metadata": {},
   "outputs": [],
   "source": [
    "from roboflow import Roboflow\n",
    "import os\n",
    "from dotenv import load_dotenv\n",
    "\n",
    "# Carica variabili d'ambiente\n",
    "load_dotenv()\n",
    "\n",
    "# Cambia API key su .env\n",
    "api_key = os.getenv(\"ROBOFLOW_API_KEY\")\n",
    "\n",
    "rf = Roboflow(api_key=api_key)\n",
    "project = rf.workspace(\"progettoml\").project(\"progetto-ml\")\n",
    "version = project.version(7)\n",
    "dataset = version.download(\"yolov8\")"
   ]
  }
 ],
 "metadata": {
  "language_info": {
   "name": "python"
  }
 },
 "nbformat": 4,
 "nbformat_minor": 5
}
