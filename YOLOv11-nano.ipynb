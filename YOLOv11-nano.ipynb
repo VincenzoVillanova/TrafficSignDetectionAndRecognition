{
 "cells": [
  {
   "cell_type": "code",
   "execution_count": null,
   "id": "77504b88-d8b1-4128-b0dc-4f1ed2cc86b3",
   "metadata": {},
   "outputs": [],
   "source": [
    "from ultralytics import YOLO\n",
    "\n",
    "model = YOLO(\"yolov11n.pt\")\n",
    "\n",
    "model.train(\n",
    "    data=\"Progetto-ML-7/data.yaml\",  \n",
    "    epochs=200,                      \n",
    "    imgsz=640,                      \n",
    "    patience=10,                    \n",
    "    fliplr=0.0,                   \n",
    "    flipud=0.0,                    \n",
    "    degrees=0.0,                   \n",
    "    shear=0.0,                    \n",
    "    perspective=0.0               \n",
    ")"
   ]
  }
 ],
 "metadata": {
  "kernelspec": {
   "display_name": "Python 3 (ipykernel)",
   "language": "python",
   "name": "python3"
  },
  "language_info": {
   "codemirror_mode": {
    "name": "ipython",
    "version": 3
   },
   "file_extension": ".py",
   "mimetype": "text/x-python",
   "name": "python",
   "nbconvert_exporter": "python",
   "pygments_lexer": "ipython3",
   "version": "3.10.12"
  }
 },
 "nbformat": 4,
 "nbformat_minor": 5
}
